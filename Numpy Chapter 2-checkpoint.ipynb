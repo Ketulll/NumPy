{
 "cells": [
  {
   "cell_type": "markdown",
   "id": "6159a204",
   "metadata": {},
   "source": [
    "## Array Creation Routine in Numpy"
   ]
  },
  {
   "cell_type": "code",
   "execution_count": 1,
   "id": "2ebee830",
   "metadata": {},
   "outputs": [],
   "source": [
    "import numpy as np"
   ]
  },
  {
   "cell_type": "markdown",
   "id": "57ff34bd",
   "metadata": {},
   "source": [
    "####1.np.empty :- it creates an uninitialise array of specified shape with random values"
   ]
  },
  {
   "cell_type": "code",
   "execution_count": 17,
   "id": "cec87c16",
   "metadata": {},
   "outputs": [
    {
     "data": {
      "text/plain": [
       "array([1.05700260e-307, 1.29061006e-306, 2.13620807e-306, 4.00536382e-307,\n",
       "       4.00536722e-307])"
      ]
     },
     "execution_count": 17,
     "metadata": {},
     "output_type": "execute_result"
    }
   ],
   "source": [
    "np.empty(5)"
   ]
  },
  {
   "cell_type": "code",
   "execution_count": 27,
   "id": "6baf5099",
   "metadata": {},
   "outputs": [
    {
     "data": {
      "text/plain": [
       "array([[0.00000000e+000, 0.00000000e+000, 0.00000000e+000],\n",
       "       [0.00000000e+000, 0.00000000e+000, 8.37935335e-321],\n",
       "       [8.90060779e-307, 7.02955280e+159, 7.34514289e+223]])"
      ]
     },
     "execution_count": 27,
     "metadata": {},
     "output_type": "execute_result"
    }
   ],
   "source": [
    "np.empty((3,3))"
   ]
  },
  {
   "cell_type": "code",
   "execution_count": 28,
   "id": "3af8bcef",
   "metadata": {},
   "outputs": [
    {
     "data": {
      "text/plain": [
       "array([[4128860, 6029375, 3801155],\n",
       "       [5570652, 6619251, 7536754],\n",
       "       [6029312, 7536725, 7471205]])"
      ]
     },
     "execution_count": 28,
     "metadata": {},
     "output_type": "execute_result"
    }
   ],
   "source": [
    "np.empty((3,3), dtype=int)"
   ]
  },
  {
   "cell_type": "raw",
   "id": "0751cd02",
   "metadata": {},
   "source": [
    "2. np.zeros - it returns a new array of specified shape, filled with zeros"
   ]
  },
  {
   "cell_type": "code",
   "execution_count": 30,
   "id": "ba426439",
   "metadata": {},
   "outputs": [
    {
     "data": {
      "text/plain": [
       "array([0., 0., 0., 0., 0.])"
      ]
     },
     "execution_count": 30,
     "metadata": {},
     "output_type": "execute_result"
    }
   ],
   "source": [
    "np.zeros(5)"
   ]
  },
  {
   "cell_type": "code",
   "execution_count": 31,
   "id": "b61e1345",
   "metadata": {},
   "outputs": [
    {
     "data": {
      "text/plain": [
       "array([[0, 0, 0],\n",
       "       [0, 0, 0],\n",
       "       [0, 0, 0]])"
      ]
     },
     "execution_count": 31,
     "metadata": {},
     "output_type": "execute_result"
    }
   ],
   "source": [
    "np.zeros((3,3),dtype=int)"
   ]
  },
  {
   "cell_type": "raw",
   "id": "f34bac0b",
   "metadata": {},
   "source": [
    "3.np.ones - it returns a new array of specified shape, filled with ones"
   ]
  },
  {
   "cell_type": "code",
   "execution_count": 32,
   "id": "2e12cb6f",
   "metadata": {},
   "outputs": [
    {
     "data": {
      "text/plain": [
       "array([1., 1., 1., 1., 1., 1., 1., 1., 1., 1.])"
      ]
     },
     "execution_count": 32,
     "metadata": {},
     "output_type": "execute_result"
    }
   ],
   "source": [
    "np.ones(10)"
   ]
  },
  {
   "cell_type": "code",
   "execution_count": 33,
   "id": "ef356b51",
   "metadata": {},
   "outputs": [
    {
     "data": {
      "text/plain": [
       "array([[1., 1., 1.],\n",
       "       [1., 1., 1.],\n",
       "       [1., 1., 1.]])"
      ]
     },
     "execution_count": 33,
     "metadata": {},
     "output_type": "execute_result"
    }
   ],
   "source": [
    "np.ones((3,3))"
   ]
  },
  {
   "cell_type": "raw",
   "id": "047be7ea",
   "metadata": {},
   "source": [
    "4. np.eye - it return an identify matrix which is a square matrix"
   ]
  },
  {
   "cell_type": "code",
   "execution_count": 34,
   "id": "e9b5c7af",
   "metadata": {},
   "outputs": [
    {
     "data": {
      "text/plain": [
       "array([[1., 0., 0.],\n",
       "       [0., 1., 0.],\n",
       "       [0., 0., 1.]])"
      ]
     },
     "execution_count": 34,
     "metadata": {},
     "output_type": "execute_result"
    }
   ],
   "source": [
    "np.eye(3)"
   ]
  },
  {
   "cell_type": "code",
   "execution_count": 35,
   "id": "118cdc4d",
   "metadata": {},
   "outputs": [
    {
     "data": {
      "text/plain": [
       "array([[1., 0.],\n",
       "       [0., 1.]])"
      ]
     },
     "execution_count": 35,
     "metadata": {},
     "output_type": "execute_result"
    }
   ],
   "source": [
    "np.eye(2)"
   ]
  },
  {
   "cell_type": "raw",
   "id": "11e98f83",
   "metadata": {},
   "source": [
    "5. arange - it returns an evenly spaced numbers just like python range function"
   ]
  },
  {
   "cell_type": "code",
   "execution_count": 36,
   "id": "c011d2ed",
   "metadata": {},
   "outputs": [
    {
     "data": {
      "text/plain": [
       "[1, 2, 3, 4, 5, 6, 7, 8, 9, 10]"
      ]
     },
     "execution_count": 36,
     "metadata": {},
     "output_type": "execute_result"
    }
   ],
   "source": [
    "list(range(1,11))"
   ]
  },
  {
   "cell_type": "code",
   "execution_count": 37,
   "id": "64ec5488",
   "metadata": {},
   "outputs": [
    {
     "data": {
      "text/plain": [
       "array([ 1,  2,  3,  4,  5,  6,  7,  8,  9, 10])"
      ]
     },
     "execution_count": 37,
     "metadata": {},
     "output_type": "execute_result"
    }
   ],
   "source": [
    "np.arange(1,11) # start: inclusive, end: exclusive"
   ]
  },
  {
   "cell_type": "code",
   "execution_count": 39,
   "id": "21e0c05d",
   "metadata": {},
   "outputs": [
    {
     "data": {
      "text/plain": [
       "array([ 0,  2,  4,  6,  8, 10])"
      ]
     },
     "execution_count": 39,
     "metadata": {},
     "output_type": "execute_result"
    }
   ],
   "source": [
    "np.arange(0,11,2)"
   ]
  },
  {
   "cell_type": "code",
   "execution_count": 40,
   "id": "9d2ff2d1",
   "metadata": {},
   "outputs": [
    {
     "data": {
      "text/plain": [
       "array([[1, 2, 3],\n",
       "       [4, 5, 6]])"
      ]
     },
     "execution_count": 40,
     "metadata": {},
     "output_type": "execute_result"
    }
   ],
   "source": [
    "np.arange(1,7).reshape(2,3)"
   ]
  },
  {
   "cell_type": "raw",
   "id": "85116eb5",
   "metadata": {},
   "source": [
    "6.np.linspace - this is a function similar to arange, instead of step size, the number of evenly \n",
    "spaced values between an interval is specified"
   ]
  },
  {
   "cell_type": "code",
   "execution_count": 47,
   "id": "5960c729",
   "metadata": {},
   "outputs": [
    {
     "data": {
      "text/plain": [
       "array([11., 12., 13., 14., 15., 16., 17., 18., 19., 20.])"
      ]
     },
     "execution_count": 47,
     "metadata": {},
     "output_type": "execute_result"
    }
   ],
   "source": [
    "np.linspace(11,20,10)"
   ]
  },
  {
   "cell_type": "code",
   "execution_count": 48,
   "id": "98fb1538",
   "metadata": {},
   "outputs": [
    {
     "data": {
      "text/plain": [
       "array([11.        , 11.47368421, 11.94736842, 12.42105263, 12.89473684,\n",
       "       13.36842105, 13.84210526, 14.31578947, 14.78947368, 15.26315789,\n",
       "       15.73684211, 16.21052632, 16.68421053, 17.15789474, 17.63157895,\n",
       "       18.10526316, 18.57894737, 19.05263158, 19.52631579, 20.        ])"
      ]
     },
     "execution_count": 48,
     "metadata": {},
     "output_type": "execute_result"
    }
   ],
   "source": [
    "np.linspace(11,20,20)"
   ]
  },
  {
   "cell_type": "code",
   "execution_count": 49,
   "id": "f606c067",
   "metadata": {},
   "outputs": [
    {
     "data": {
      "text/plain": [
       "0.47368421000000005"
      ]
     },
     "execution_count": 49,
     "metadata": {},
     "output_type": "execute_result"
    }
   ],
   "source": [
    "11.47368421 - 11"
   ]
  },
  {
   "cell_type": "code",
   "execution_count": 51,
   "id": "f637e1e7",
   "metadata": {},
   "outputs": [
    {
     "data": {
      "text/plain": [
       "0.47368421000000005"
      ]
     },
     "execution_count": 51,
     "metadata": {},
     "output_type": "execute_result"
    }
   ],
   "source": [
    "11.94736842 - 11.47368421"
   ]
  },
  {
   "cell_type": "code",
   "execution_count": 52,
   "id": "03d6a98b",
   "metadata": {},
   "outputs": [
    {
     "data": {
      "text/plain": [
       "array([0.        , 0.01010101, 0.02020202, 0.03030303, 0.04040404,\n",
       "       0.05050505, 0.06060606, 0.07070707, 0.08080808, 0.09090909,\n",
       "       0.1010101 , 0.11111111, 0.12121212, 0.13131313, 0.14141414,\n",
       "       0.15151515, 0.16161616, 0.17171717, 0.18181818, 0.19191919,\n",
       "       0.2020202 , 0.21212121, 0.22222222, 0.23232323, 0.24242424,\n",
       "       0.25252525, 0.26262626, 0.27272727, 0.28282828, 0.29292929,\n",
       "       0.3030303 , 0.31313131, 0.32323232, 0.33333333, 0.34343434,\n",
       "       0.35353535, 0.36363636, 0.37373737, 0.38383838, 0.39393939,\n",
       "       0.4040404 , 0.41414141, 0.42424242, 0.43434343, 0.44444444,\n",
       "       0.45454545, 0.46464646, 0.47474747, 0.48484848, 0.49494949,\n",
       "       0.50505051, 0.51515152, 0.52525253, 0.53535354, 0.54545455,\n",
       "       0.55555556, 0.56565657, 0.57575758, 0.58585859, 0.5959596 ,\n",
       "       0.60606061, 0.61616162, 0.62626263, 0.63636364, 0.64646465,\n",
       "       0.65656566, 0.66666667, 0.67676768, 0.68686869, 0.6969697 ,\n",
       "       0.70707071, 0.71717172, 0.72727273, 0.73737374, 0.74747475,\n",
       "       0.75757576, 0.76767677, 0.77777778, 0.78787879, 0.7979798 ,\n",
       "       0.80808081, 0.81818182, 0.82828283, 0.83838384, 0.84848485,\n",
       "       0.85858586, 0.86868687, 0.87878788, 0.88888889, 0.8989899 ,\n",
       "       0.90909091, 0.91919192, 0.92929293, 0.93939394, 0.94949495,\n",
       "       0.95959596, 0.96969697, 0.97979798, 0.98989899, 1.        ])"
      ]
     },
     "execution_count": 52,
     "metadata": {},
     "output_type": "execute_result"
    }
   ],
   "source": [
    "np.linspace(0,1,100)"
   ]
  },
  {
   "cell_type": "code",
   "execution_count": 53,
   "id": "dcd9d990",
   "metadata": {},
   "outputs": [
    {
     "data": {
      "text/plain": [
       "0.95959596"
      ]
     },
     "execution_count": 53,
     "metadata": {},
     "output_type": "execute_result"
    }
   ],
   "source": [
    "0.95959596 - 0"
   ]
  },
  {
   "cell_type": "code",
   "execution_count": 54,
   "id": "28d38c68",
   "metadata": {},
   "outputs": [
    {
     "data": {
      "text/plain": [
       "0.010101009999999966"
      ]
     },
     "execution_count": 54,
     "metadata": {},
     "output_type": "execute_result"
    }
   ],
   "source": [
    "0.96969697 - 0.95959596"
   ]
  },
  {
   "cell_type": "raw",
   "id": "b417ca7f",
   "metadata": {},
   "source": [
    "7.np.random.rand :- returns an array of specified shape with random values"
   ]
  },
  {
   "cell_type": "code",
   "execution_count": 56,
   "id": "2fcfb068",
   "metadata": {},
   "outputs": [
    {
     "data": {
      "text/plain": [
       "array([0.37118782, 0.07803434, 0.22867879, 0.51271934, 0.83861306,\n",
       "       0.583209  , 0.8890815 , 0.25367861, 0.85761149, 0.03286222])"
      ]
     },
     "execution_count": 56,
     "metadata": {},
     "output_type": "execute_result"
    }
   ],
   "source": [
    "np.random.rand(10)"
   ]
  },
  {
   "cell_type": "code",
   "execution_count": 57,
   "id": "30f9e67b",
   "metadata": {},
   "outputs": [
    {
     "data": {
      "text/plain": [
       "array([[0.37392469, 0.71619596, 0.87831165],\n",
       "       [0.65223672, 0.94958831, 0.08999771],\n",
       "       [0.01137085, 0.92257034, 0.21341517]])"
      ]
     },
     "execution_count": 57,
     "metadata": {},
     "output_type": "execute_result"
    }
   ],
   "source": [
    "np.random.rand(3,3)"
   ]
  },
  {
   "cell_type": "raw",
   "id": "379f5771",
   "metadata": {},
   "source": [
    "8. np.random.randn -returns an array of spacified shape with random values -ve to +ve"
   ]
  },
  {
   "cell_type": "code",
   "execution_count": 78,
   "id": "9d84d5ba",
   "metadata": {},
   "outputs": [
    {
     "data": {
      "text/plain": [
       "array([-0.61324009, -0.35579967, -0.44914545, -1.65654783,  0.94566911,\n",
       "        0.82349213, -1.97983741,  0.72149383,  0.3217894 , -0.8856741 ])"
      ]
     },
     "execution_count": 78,
     "metadata": {},
     "output_type": "execute_result"
    }
   ],
   "source": [
    "np.random.randn(10)"
   ]
  },
  {
   "cell_type": "code",
   "execution_count": 91,
   "id": "0ae61f6c",
   "metadata": {},
   "outputs": [
    {
     "data": {
      "text/plain": [
       "array([[-0.95726573,  1.52243054,  1.5554934 ],\n",
       "       [-0.9783893 , -0.65081873, -0.9883265 ],\n",
       "       [ 1.1223436 ,  0.55403186,  0.61194527]])"
      ]
     },
     "execution_count": 91,
     "metadata": {},
     "output_type": "execute_result"
    }
   ],
   "source": [
    "np.random.randn(3,3)"
   ]
  },
  {
   "cell_type": "code",
   "execution_count": null,
   "id": "52df13ae",
   "metadata": {},
   "outputs": [],
   "source": []
  }
 ],
 "metadata": {
  "kernelspec": {
   "display_name": "Python 3 (ipykernel)",
   "language": "python",
   "name": "python3"
  },
  "language_info": {
   "codemirror_mode": {
    "name": "ipython",
    "version": 3
   },
   "file_extension": ".py",
   "mimetype": "text/x-python",
   "name": "python",
   "nbconvert_exporter": "python",
   "pygments_lexer": "ipython3",
   "version": "3.9.12"
  }
 },
 "nbformat": 4,
 "nbformat_minor": 5
}
