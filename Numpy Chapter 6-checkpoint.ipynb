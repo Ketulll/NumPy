{
 "cells": [
  {
   "cell_type": "markdown",
   "id": "6b18b0d0",
   "metadata": {},
   "source": [
    "\n",
    "# Arithmetical & Statistical Operations"
   ]
  },
  {
   "cell_type": "code",
   "execution_count": 2,
   "id": "6ee10587",
   "metadata": {},
   "outputs": [],
   "source": [
    "import numpy as np"
   ]
  },
  {
   "cell_type": "code",
   "execution_count": 3,
   "id": "9ddb9462",
   "metadata": {},
   "outputs": [],
   "source": [
    "a = np.array([[1, 5, 6], [1, 8, 9], [0, -1, 6]])\n",
    "b = np.array([[4, 8, 4], [1, 0, 5], [6, -8, 3]])"
   ]
  },
  {
   "cell_type": "code",
   "execution_count": 4,
   "id": "e61225cb",
   "metadata": {},
   "outputs": [
    {
     "data": {
      "text/plain": [
       "array([[ 1,  5,  6],\n",
       "       [ 1,  8,  9],\n",
       "       [ 0, -1,  6]])"
      ]
     },
     "execution_count": 4,
     "metadata": {},
     "output_type": "execute_result"
    }
   ],
   "source": [
    "a"
   ]
  },
  {
   "cell_type": "code",
   "execution_count": 5,
   "id": "9f9017e1",
   "metadata": {},
   "outputs": [
    {
     "data": {
      "text/plain": [
       "array([[ 4,  8,  4],\n",
       "       [ 1,  0,  5],\n",
       "       [ 6, -8,  3]])"
      ]
     },
     "execution_count": 5,
     "metadata": {},
     "output_type": "execute_result"
    }
   ],
   "source": [
    "b"
   ]
  },
  {
   "cell_type": "markdown",
   "id": "517b7df6",
   "metadata": {},
   "source": [
    "# Arithmetics on numpy"
   ]
  },
  {
   "cell_type": "code",
   "execution_count": 6,
   "id": "1a7506a5",
   "metadata": {},
   "outputs": [
    {
     "data": {
      "text/plain": [
       "array([[ 5, 13, 10],\n",
       "       [ 2,  8, 14],\n",
       "       [ 6, -9,  9]])"
      ]
     },
     "execution_count": 6,
     "metadata": {},
     "output_type": "execute_result"
    }
   ],
   "source": [
    "np.add(a,b)"
   ]
  },
  {
   "cell_type": "code",
   "execution_count": 8,
   "id": "25e6611d",
   "metadata": {},
   "outputs": [
    {
     "data": {
      "text/plain": [
       "array([[-3, -3,  2],\n",
       "       [ 0,  8,  4],\n",
       "       [-6,  7,  3]])"
      ]
     },
     "execution_count": 8,
     "metadata": {},
     "output_type": "execute_result"
    }
   ],
   "source": [
    "np.subtract(a,b)"
   ]
  },
  {
   "cell_type": "code",
   "execution_count": 9,
   "id": "74861a4d",
   "metadata": {},
   "outputs": [
    {
     "data": {
      "text/plain": [
       "array([[ 4, 40, 24],\n",
       "       [ 1,  0, 45],\n",
       "       [ 0,  8, 18]])"
      ]
     },
     "execution_count": 9,
     "metadata": {},
     "output_type": "execute_result"
    }
   ],
   "source": [
    "np.multiply(a,b)"
   ]
  },
  {
   "cell_type": "code",
   "execution_count": 11,
   "id": "2b039012",
   "metadata": {},
   "outputs": [
    {
     "name": "stderr",
     "output_type": "stream",
     "text": [
      "C:\\Users\\Ketul Patel\\AppData\\Local\\Temp\\ipykernel_21548\\2626738034.py:1: RuntimeWarning: divide by zero encountered in true_divide\n",
      "  np.divide(a,b)\n"
     ]
    },
    {
     "data": {
      "text/plain": [
       "array([[0.25 , 0.625, 1.5  ],\n",
       "       [1.   ,   inf, 1.8  ],\n",
       "       [0.   , 0.125, 2.   ]])"
      ]
     },
     "execution_count": 11,
     "metadata": {},
     "output_type": "execute_result"
    }
   ],
   "source": [
    "np.divide(a,b)"
   ]
  },
  {
   "cell_type": "code",
   "execution_count": 12,
   "id": "18345790",
   "metadata": {},
   "outputs": [
    {
     "name": "stderr",
     "output_type": "stream",
     "text": [
      "C:\\Users\\Ketul Patel\\AppData\\Local\\Temp\\ipykernel_21548\\1219048507.py:1: RuntimeWarning: divide by zero encountered in remainder\n",
      "  np.remainder(a,b)\n"
     ]
    },
    {
     "data": {
      "text/plain": [
       "array([[ 1,  5,  2],\n",
       "       [ 0,  0,  4],\n",
       "       [ 0, -1,  0]], dtype=int32)"
      ]
     },
     "execution_count": 12,
     "metadata": {},
     "output_type": "execute_result"
    }
   ],
   "source": [
    "np.remainder(a,b)"
   ]
  },
  {
   "cell_type": "markdown",
   "id": "7192f11f",
   "metadata": {},
   "source": [
    "# Matrics product"
   ]
  },
  {
   "cell_type": "code",
   "execution_count": 13,
   "id": "007ec0cd",
   "metadata": {},
   "outputs": [
    {
     "data": {
      "text/plain": [
       "array([[ 45, -40,  47],\n",
       "       [ 66, -64,  71],\n",
       "       [ 35, -48,  13]])"
      ]
     },
     "execution_count": 13,
     "metadata": {},
     "output_type": "execute_result"
    }
   ],
   "source": [
    "#dot product or inner product i.e 1st row to 1st col and so on...\n",
    "np.matmul(a,b)"
   ]
  },
  {
   "cell_type": "code",
   "execution_count": 14,
   "id": "af6fbe90",
   "metadata": {},
   "outputs": [
    {
     "data": {
      "text/plain": [
       "array([[  4,   8,   4,  20,  40,  20,  24,  48,  24],\n",
       "       [  1,   0,   5,   5,   0,  25,   6,   0,  30],\n",
       "       [  6,  -8,   3,  30, -40,  15,  36, -48,  18],\n",
       "       [  4,   8,   4,  32,  64,  32,  36,  72,  36],\n",
       "       [  1,   0,   5,   8,   0,  40,   9,   0,  45],\n",
       "       [  6,  -8,   3,  48, -64,  24,  54, -72,  27],\n",
       "       [  0,   0,   0,  -4,  -8,  -4,  24,  48,  24],\n",
       "       [  0,   0,   0,  -1,   0,  -5,   6,   0,  30],\n",
       "       [  0,   0,   0,  -6,   8,  -3,  36, -48,  18]])"
      ]
     },
     "execution_count": 14,
     "metadata": {},
     "output_type": "execute_result"
    }
   ],
   "source": [
    "np.kron(a,b)"
   ]
  },
  {
   "cell_type": "code",
   "execution_count": 15,
   "id": "3264029d",
   "metadata": {},
   "outputs": [],
   "source": [
    "arr = np.arange(6)"
   ]
  },
  {
   "cell_type": "code",
   "execution_count": 16,
   "id": "fe12c621",
   "metadata": {},
   "outputs": [
    {
     "data": {
      "text/plain": [
       "array([0, 1, 2, 3, 4, 5])"
      ]
     },
     "execution_count": 16,
     "metadata": {},
     "output_type": "execute_result"
    }
   ],
   "source": [
    "arr"
   ]
  },
  {
   "cell_type": "code",
   "execution_count": 17,
   "id": "11f3e767",
   "metadata": {},
   "outputs": [
    {
     "data": {
      "text/plain": [
       "array([ 0, 10, 20, 30, 40, 50])"
      ]
     },
     "execution_count": 17,
     "metadata": {},
     "output_type": "execute_result"
    }
   ],
   "source": [
    "arr*10"
   ]
  },
  {
   "cell_type": "code",
   "execution_count": 18,
   "id": "f03b84cc",
   "metadata": {},
   "outputs": [
    {
     "data": {
      "text/plain": [
       "array([0.        , 1.        , 1.41421356, 1.73205081, 2.        ,\n",
       "       2.23606798])"
      ]
     },
     "execution_count": 18,
     "metadata": {},
     "output_type": "execute_result"
    }
   ],
   "source": [
    "np.sqrt(arr)"
   ]
  },
  {
   "cell_type": "code",
   "execution_count": 21,
   "id": "9b7e1f66",
   "metadata": {},
   "outputs": [],
   "source": [
    "nums = np.sqrt(arr)"
   ]
  },
  {
   "cell_type": "code",
   "execution_count": 22,
   "id": "b1bc3a02",
   "metadata": {},
   "outputs": [
    {
     "data": {
      "text/plain": [
       "array([0., 1., 2., 2., 2., 3.])"
      ]
     },
     "execution_count": 22,
     "metadata": {},
     "output_type": "execute_result"
    }
   ],
   "source": [
    "np.ceil(nums)"
   ]
  },
  {
   "cell_type": "code",
   "execution_count": 23,
   "id": "ab4c7df0",
   "metadata": {},
   "outputs": [
    {
     "data": {
      "text/plain": [
       "array([0., 1., 1., 1., 2., 2.])"
      ]
     },
     "execution_count": 23,
     "metadata": {},
     "output_type": "execute_result"
    }
   ],
   "source": [
    "np.floor(nums)"
   ]
  },
  {
   "cell_type": "markdown",
   "id": "a92462d6",
   "metadata": {},
   "source": [
    "\n",
    "# Statistical Operaations"
   ]
  },
  {
   "cell_type": "code",
   "execution_count": 28,
   "id": "0739c17e",
   "metadata": {},
   "outputs": [
    {
     "data": {
      "text/plain": [
       "array([[ 0.22551265, -1.11944102],\n",
       "       [-0.39994175,  0.214394  ],\n",
       "       [ 0.00877929, -1.51753366],\n",
       "       [-0.71878151,  0.01782507]])"
      ]
     },
     "execution_count": 28,
     "metadata": {},
     "output_type": "execute_result"
    }
   ],
   "source": [
    "arr =np.random.randn(4,2)\n",
    "arr"
   ]
  },
  {
   "cell_type": "code",
   "execution_count": 29,
   "id": "e27c6fce",
   "metadata": {},
   "outputs": [
    {
     "data": {
      "text/plain": [
       "-0.4111483674103802"
      ]
     },
     "execution_count": 29,
     "metadata": {},
     "output_type": "execute_result"
    }
   ],
   "source": [
    "arr.mean()"
   ]
  },
  {
   "cell_type": "code",
   "execution_count": 30,
   "id": "6979cdc8",
   "metadata": {},
   "outputs": [
    {
     "data": {
      "text/plain": [
       "0.6100746460165833"
      ]
     },
     "execution_count": 30,
     "metadata": {},
     "output_type": "execute_result"
    }
   ],
   "source": [
    "arr.std()"
   ]
  },
  {
   "cell_type": "code",
   "execution_count": 31,
   "id": "194baf0c",
   "metadata": {},
   "outputs": [
    {
     "data": {
      "text/plain": [
       "0.225512647852424"
      ]
     },
     "execution_count": 31,
     "metadata": {},
     "output_type": "execute_result"
    }
   ],
   "source": [
    "arr.max()"
   ]
  },
  {
   "cell_type": "code",
   "execution_count": 33,
   "id": "4b9437c1",
   "metadata": {},
   "outputs": [
    {
     "data": {
      "text/plain": [
       "0"
      ]
     },
     "execution_count": 33,
     "metadata": {},
     "output_type": "execute_result"
    }
   ],
   "source": [
    "arr.argmax()"
   ]
  },
  {
   "cell_type": "code",
   "execution_count": 34,
   "id": "ecd6f272",
   "metadata": {},
   "outputs": [
    {
     "data": {
      "text/plain": [
       "5"
      ]
     },
     "execution_count": 34,
     "metadata": {},
     "output_type": "execute_result"
    }
   ],
   "source": [
    "arr.argmin()"
   ]
  },
  {
   "cell_type": "code",
   "execution_count": 35,
   "id": "71908dbd",
   "metadata": {},
   "outputs": [
    {
     "data": {
      "text/plain": [
       "-3.2891869392830415"
      ]
     },
     "execution_count": 35,
     "metadata": {},
     "output_type": "execute_result"
    }
   ],
   "source": [
    "arr.sum()"
   ]
  },
  {
   "cell_type": "code",
   "execution_count": 36,
   "id": "d34e4c57",
   "metadata": {},
   "outputs": [
    {
     "data": {
      "text/plain": [
       "array([-0.88443132, -2.40475562])"
      ]
     },
     "execution_count": 36,
     "metadata": {},
     "output_type": "execute_result"
    }
   ],
   "source": [
    "arr.sum(axis=0)"
   ]
  },
  {
   "cell_type": "code",
   "execution_count": 37,
   "id": "7293453b",
   "metadata": {},
   "outputs": [
    {
     "data": {
      "text/plain": [
       "array([-0.89392838, -0.18554776, -1.50875437, -0.70095643])"
      ]
     },
     "execution_count": 37,
     "metadata": {},
     "output_type": "execute_result"
    }
   ],
   "source": [
    "arr.sum(axis=1)"
   ]
  },
  {
   "cell_type": "code",
   "execution_count": 38,
   "id": "038f08fc",
   "metadata": {},
   "outputs": [
    {
     "data": {
      "text/plain": [
       "array([[ 0.22551265, -1.11944102],\n",
       "       [-0.39994175,  0.214394  ],\n",
       "       [ 0.00877929, -1.51753366],\n",
       "       [-0.71878151,  0.01782507]])"
      ]
     },
     "execution_count": 38,
     "metadata": {},
     "output_type": "execute_result"
    }
   ],
   "source": [
    "arr"
   ]
  },
  {
   "cell_type": "code",
   "execution_count": 39,
   "id": "4547bad5",
   "metadata": {},
   "outputs": [
    {
     "data": {
      "text/plain": [
       "array([ 0.22551265, -1.11944102, -0.39994175,  0.214394  ,  0.00877929,\n",
       "       -1.51753366, -0.71878151,  0.01782507])"
      ]
     },
     "execution_count": 39,
     "metadata": {},
     "output_type": "execute_result"
    }
   ],
   "source": [
    "arr.flatten()"
   ]
  },
  {
   "cell_type": "markdown",
   "id": "9c0ad754",
   "metadata": {},
   "source": [
    "# Computing Euclidean Distance between 2 vectors"
   ]
  },
  {
   "cell_type": "code",
   "execution_count": 40,
   "id": "cdfb4124",
   "metadata": {},
   "outputs": [],
   "source": [
    "vec1 = np.random.randn(3,3)\n",
    "vec2 = np.random.randn(3,3)"
   ]
  },
  {
   "cell_type": "code",
   "execution_count": 41,
   "id": "65455170",
   "metadata": {},
   "outputs": [
    {
     "data": {
      "text/plain": [
       "array([[ 0.71186265, -1.55684082,  0.7164752 ],\n",
       "       [ 0.50368808, -1.389811  , -1.5021455 ],\n",
       "       [ 1.29488162,  1.35645602, -0.26006283]])"
      ]
     },
     "execution_count": 41,
     "metadata": {},
     "output_type": "execute_result"
    }
   ],
   "source": [
    "vec1"
   ]
  },
  {
   "cell_type": "code",
   "execution_count": 42,
   "id": "9dee22bb",
   "metadata": {},
   "outputs": [
    {
     "data": {
      "text/plain": [
       "array([[-0.85069123, -0.61637724, -0.16019249],\n",
       "       [ 0.96741155,  1.13324902,  1.16096489],\n",
       "       [ 0.15462172, -0.49809122,  1.38647869]])"
      ]
     },
     "execution_count": 42,
     "metadata": {},
     "output_type": "execute_result"
    }
   ],
   "source": [
    "vec2"
   ]
  },
  {
   "cell_type": "code",
   "execution_count": 46,
   "id": "437e8065",
   "metadata": {},
   "outputs": [
    {
     "data": {
      "text/plain": [
       "2.802870255901514"
      ]
     },
     "execution_count": 46,
     "metadata": {},
     "output_type": "execute_result"
    }
   ],
   "source": [
    "dist = np.sqrt(np.sum(vec1-vec2)**2)\n",
    "dist"
   ]
  },
  {
   "cell_type": "markdown",
   "id": "d416cf55",
   "metadata": {},
   "source": [
    "# Trigonometric Functions"
   ]
  },
  {
   "cell_type": "code",
   "execution_count": 47,
   "id": "52a2f1ef",
   "metadata": {},
   "outputs": [
    {
     "data": {
      "text/plain": [
       "0.8939966636005579"
      ]
     },
     "execution_count": 47,
     "metadata": {},
     "output_type": "execute_result"
    }
   ],
   "source": [
    "np.sin(90)"
   ]
  },
  {
   "cell_type": "code",
   "execution_count": 48,
   "id": "9d8cd2cc",
   "metadata": {},
   "outputs": [
    {
     "data": {
      "text/plain": [
       "-0.4480736161291701"
      ]
     },
     "execution_count": 48,
     "metadata": {},
     "output_type": "execute_result"
    }
   ],
   "source": [
    "np.cos(90)"
   ]
  },
  {
   "cell_type": "code",
   "execution_count": 49,
   "id": "d9f97dbc",
   "metadata": {},
   "outputs": [
    {
     "data": {
      "text/plain": [
       "-6.405331196646276"
      ]
     },
     "execution_count": 49,
     "metadata": {},
     "output_type": "execute_result"
    }
   ],
   "source": [
    "np.tan(30)"
   ]
  },
  {
   "cell_type": "code",
   "execution_count": 51,
   "id": "3333e17a",
   "metadata": {},
   "outputs": [
    {
     "data": {
      "text/plain": [
       "2.302585092994046"
      ]
     },
     "execution_count": 51,
     "metadata": {},
     "output_type": "execute_result"
    }
   ],
   "source": [
    "np.log(10)"
   ]
  },
  {
   "cell_type": "code",
   "execution_count": 52,
   "id": "7ade41be",
   "metadata": {},
   "outputs": [
    {
     "data": {
      "text/plain": [
       "0.0"
      ]
     },
     "execution_count": 52,
     "metadata": {},
     "output_type": "execute_result"
    }
   ],
   "source": [
    "np.log(1)"
   ]
  },
  {
   "cell_type": "code",
   "execution_count": 53,
   "id": "5437f8d9",
   "metadata": {},
   "outputs": [
    {
     "data": {
      "text/plain": [
       "1.0"
      ]
     },
     "execution_count": 53,
     "metadata": {},
     "output_type": "execute_result"
    }
   ],
   "source": [
    "np.log10(10)"
   ]
  },
  {
   "cell_type": "code",
   "execution_count": 54,
   "id": "404bd25d",
   "metadata": {},
   "outputs": [
    {
     "data": {
      "text/plain": [
       "-0.35814744992084513"
      ]
     },
     "execution_count": 54,
     "metadata": {},
     "output_type": "execute_result"
    }
   ],
   "source": [
    "np.log(np.log10(5))"
   ]
  },
  {
   "cell_type": "code",
   "execution_count": null,
   "id": "de057fc1",
   "metadata": {},
   "outputs": [],
   "source": []
  }
 ],
 "metadata": {
  "kernelspec": {
   "display_name": "Python 3 (ipykernel)",
   "language": "python",
   "name": "python3"
  },
  "language_info": {
   "codemirror_mode": {
    "name": "ipython",
    "version": 3
   },
   "file_extension": ".py",
   "mimetype": "text/x-python",
   "name": "python",
   "nbconvert_exporter": "python",
   "pygments_lexer": "ipython3",
   "version": "3.9.12"
  }
 },
 "nbformat": 4,
 "nbformat_minor": 5
}
